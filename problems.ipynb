{
 "cells": [
  {
   "cell_type": "markdown",
   "metadata": {},
   "source": [
    "1) Given a string s containing just the characters '(', ')', '{', '}', ']' and '[' , determine if the input string is valid.\n",
    "\n",
    "An input string is valid if:\n",
    "\n",
    "    Open brackets must be closed by the same type of brackets.\n",
    "    Open brackets must be closed in the correct order.\n",
    "    Every close bracket has a corresponding open bracket of the same type.\n"
   ]
  },
  {
   "cell_type": "code",
   "execution_count": null,
   "metadata": {
    "pycharm": {
     "is_executing": true
    }
   },
   "outputs": [],
   "source": [
    "string_to_test = \"((([]{})))\"\n",
    "\n",
    "def valid_parentheses(string: str):\n",
    "    brackets = {\n",
    "            \"}\": \"{\",\n",
    "            \")\": \"(\",\n",
    "            \"]\": \"[\"\n",
    "        }\n",
    "    brackets_stack = []\n",
    "\n",
    "    for bracket in string:\n",
    "        if bracket in brackets.keys():\n",
    "            if (not brackets_stack) or (brackets_stack.pop() != brackets[bracket]):\n",
    "                return False\n",
    "        else:\n",
    "            brackets_stack.append(bracket)\n",
    "    return not brackets_stack\n",
    "\n",
    "print(valid_parentheses(string_to_test))"
   ]
  },
  {
   "cell_type": "markdown",
   "metadata": {},
   "source": [
    "2) Лёша сидел на лекции. Ему было невероятно скучно. Голос лектора казался таким далеким и незаметным...\n",
    "\n",
    "Чтобы окончательно не уснуть, он взял листок и написал на нём свое любимое слово. Чуть ниже он повторил своё любимое слово, без первой буквы. Ещё ниже он снова написал своё любимое слово, но в этот раз без двух первых и последней буквы.\n",
    "\n",
    "Тут ему пришла в голову мысль — времени до конца лекции все равно ещё очень много, почему бы не продолжить выписывать всеми возможными способами это слово без какой-то части с начала и какой-то части с конца?\n",
    "\n",
    "После лекции Лёша рассказал Максу, как замечательно он скоротал время. Максу стало интересно посчитать, сколько букв каждого вида встречается у Лёши в листочке. Но к сожалению, сам листочек куда-то запропастился.\n",
    "\n",
    "Макс хорошо знает любимое слово Лёши, а ещё у него не так много свободного времени, как у его друга, так что помогите ему быстро восстановить, сколько раз Лёше пришлось выписать каждую букву.\n",
    "Формат ввода\n",
    "\n",
    "На вход подаётся строка, состоящая из строчных латинских букв — любимое слово Лёши.\n",
    "\n",
    "Длина строки лежит в пределах от 5 до 100000 символов.\n",
    "Формат вывода\n",
    "\n",
    "Для каждой буквы на листочке Лёши, выведите её, а затем через двоеточие и пробел сколько раз она встретилась в выписанных Лёшей словах (см. формат вывода в примерах). Буквы должны следовать в алфавитном порядке. Буквы, не встречающиеся на листочке, выводить не нужно.\n",
    "\n",
    "https://mathematichka.ru/school/combinatorics/combination.html"
   ]
  },
  {
   "cell_type": "markdown",
   "metadata": {},
   "source": [
    "#### Получить вариации:"
   ]
  },
  {
   "cell_type": "code",
   "execution_count": null,
   "metadata": {
    "pycharm": {
     "is_executing": true
    }
   },
   "outputs": [],
   "source": [
    "word = \"hello\"\n",
    "\n",
    "words = []\n",
    "for i in range(len(word)):\n",
    "    for j in range(len(word), i, -1):\n",
    "        new_word = word[i:j]\n",
    "        words.append(new_word)\n",
    "\n",
    "print(words)"
   ]
  },
  {
   "cell_type": "markdown",
   "metadata": {},
   "source": [
    "Решение:"
   ]
  }
 ],
 "metadata": {
  "kernelspec": {
   "display_name": "Python 3 (ipykernel)",
   "language": "python",
   "name": "python3"
  },
  "language_info": {
   "codemirror_mode": {
    "name": "ipython",
    "version": 3
   },
   "file_extension": ".py",
   "mimetype": "text/x-python",
   "name": "python",
   "nbconvert_exporter": "python",
   "pygments_lexer": "ipython3",
   "version": "3.8.10"
  }
 },
 "nbformat": 4,
 "nbformat_minor": 1
}
